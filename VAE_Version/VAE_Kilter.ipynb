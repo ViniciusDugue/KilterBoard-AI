{
 "cells": [
  {
   "cell_type": "code",
   "execution_count": 1,
   "metadata": {},
   "outputs": [
    {
     "name": "stdout",
     "output_type": "stream",
     "text": [
      "Requirement already satisfied: boardlib in c:\\users\\vinicius dugue\\appdata\\local\\programs\\python\\python311\\lib\\site-packages (0.4.1)\n",
      "Requirement already satisfied: bs4 in c:\\users\\vinicius dugue\\appdata\\local\\programs\\python\\python311\\lib\\site-packages (from boardlib) (0.0.2)\n",
      "Requirement already satisfied: requests in c:\\users\\vinicius dugue\\appdata\\local\\programs\\python\\python311\\lib\\site-packages (from boardlib) (2.31.0)\n",
      "Requirement already satisfied: beautifulsoup4 in c:\\users\\vinicius dugue\\appdata\\local\\programs\\python\\python311\\lib\\site-packages (from bs4->boardlib) (4.12.3)\n",
      "Requirement already satisfied: charset-normalizer<4,>=2 in c:\\users\\vinicius dugue\\appdata\\local\\programs\\python\\python311\\lib\\site-packages (from requests->boardlib) (3.3.2)\n",
      "Requirement already satisfied: idna<4,>=2.5 in c:\\users\\vinicius dugue\\appdata\\local\\programs\\python\\python311\\lib\\site-packages (from requests->boardlib) (3.6)\n",
      "Requirement already satisfied: urllib3<3,>=1.21.1 in c:\\users\\vinicius dugue\\appdata\\local\\programs\\python\\python311\\lib\\site-packages (from requests->boardlib) (2.2.1)\n",
      "Requirement already satisfied: certifi>=2017.4.17 in c:\\users\\vinicius dugue\\appdata\\local\\programs\\python\\python311\\lib\\site-packages (from requests->boardlib) (2024.2.2)\n",
      "Requirement already satisfied: soupsieve>1.2 in c:\\users\\vinicius dugue\\appdata\\local\\programs\\python\\python311\\lib\\site-packages (from beautifulsoup4->bs4->boardlib) (2.5)\n",
      "Note: you may need to restart the kernel to use updated packages.\n"
     ]
    }
   ],
   "source": [
    "# %pip uninstall boardlib\n",
    "%pip install boardlib\n",
    "# %pip install pandas\n",
    "# %pip install pandasgui\n",
    "# Download the kilter dataset by running this in the terminal:\n",
    "# boardlib database kilter ./kilter.db"
   ]
  },
  {
   "cell_type": "code",
   "execution_count": 2,
   "metadata": {},
   "outputs": [],
   "source": [
    "import sqlite3\n",
    "import boardlib\n",
    "import pandas as pd\n",
    "from pandasgui import show\n",
    "import matplotlib.pyplot as plt\n",
    "import scipy.sparse as sp"
   ]
  },
  {
   "cell_type": "markdown",
   "metadata": {},
   "source": []
  },
  {
   "cell_type": "code",
   "execution_count": 3,
   "metadata": {},
   "outputs": [
    {
     "name": "stdout",
     "output_type": "stream",
     "text": [
      "['android_metadata', 'ascents', 'attempts', 'beta_links', 'bids', 'circuits', 'circuits_climbs', 'climb_cache_fields', 'climb_random_positions', 'climb_stats', 'climbs', 'difficulty_grades', 'holes', 'kits', 'layouts', 'leds', 'placement_roles', 'placements', 'product_sizes', 'product_sizes_layouts_sets', 'products', 'products_angles', 'sets', 'shared_syncs', 'tags', 'user_permissions', 'user_syncs', 'users', 'wall_expungements', 'walls', 'walls_sets']\n"
     ]
    }
   ],
   "source": [
    "\n",
    "con = sqlite3.connect('kilter.db')\n",
    "cur = con.cursor()\n",
    "table_list = [a for a in cur.execute(\"SELECT name FROM sqlite_master WHERE type = 'table'\")]\n",
    "table_names = [entry[0] for entry in table_list]\n",
    "table_names.sort()\n",
    "print(table_names)\n",
    "con.close()"
   ]
  },
  {
   "cell_type": "markdown",
   "metadata": {},
   "source": []
  },
  {
   "cell_type": "code",
   "execution_count": 4,
   "metadata": {},
   "outputs": [],
   "source": [
    "def table_to_df(table_name):\n",
    "    con = sqlite3.connect('kilter.db')\n",
    "\n",
    "    df =  pd.read_sql_query(f\"SELECT * FROM {table_name}\", con)\n",
    "    \n",
    "    con.close()\n",
    "\n",
    "    return df"
   ]
  },
  {
   "cell_type": "code",
   "execution_count": 5,
   "metadata": {},
   "outputs": [],
   "source": [
    "# get all tables as dfs\n",
    "for table_name in table_names:\n",
    "    globals()[table_name] = table_to_df(table_name)\n",
    "# print(\"The available dataframes are: \\n\\t\" + \"\\n\\t\".join(table_names))"
   ]
  },
  {
   "cell_type": "code",
   "execution_count": 6,
   "metadata": {},
   "outputs": [],
   "source": [
    "# this feels so wrong but wcyd. Could reduce the lines of code but lets just keep it easy to read and understand\n",
    "def map_vgrade(difficulty):\n",
    "    if 10 <= difficulty < 12:\n",
    "        return 0\n",
    "    elif 12 <= difficulty < 14:\n",
    "        return 1\n",
    "    elif 14 <= difficulty < 16:\n",
    "        return 2\n",
    "    elif 16 <= difficulty < 18:\n",
    "        return 3\n",
    "    elif 18 <= difficulty < 20:\n",
    "        return 4\n",
    "    elif 20 <= difficulty < 22:\n",
    "        return 5\n",
    "    elif 22 <= difficulty < 23:\n",
    "        return 6\n",
    "    elif 23 <= difficulty < 24:\n",
    "        return 7\n",
    "    elif 24 <= difficulty < 26:\n",
    "        return 8\n",
    "    elif 26 <= difficulty < 28:\n",
    "        return 9\n",
    "    elif 28 <= difficulty < 29:\n",
    "        return 10\n",
    "    elif 29 <= difficulty < 30:\n",
    "        return 11\n",
    "    elif 30 <= difficulty < 31:\n",
    "        return 12\n",
    "    elif 31 <= difficulty < 32:\n",
    "        return 13\n",
    "    elif 32 <= difficulty < 33:\n",
    "        return 14\n",
    "    elif difficulty >= 33:\n",
    "        return 15\n",
    "    else:\n",
    "        return None\n"
   ]
  },
  {
   "cell_type": "markdown",
   "metadata": {},
   "source": [
    "### Create DF with necessary columns and data"
   ]
  },
  {
   "cell_type": "code",
   "execution_count": 7,
   "metadata": {},
   "outputs": [
    {
     "name": "stderr",
     "output_type": "stream",
     "text": [
      "PandasGUI INFO — pandasgui.gui — Opening PandasGUI\n"
     ]
    },
    {
     "data": {
      "text/plain": [
       "<pandasgui.gui.PandasGui at 0x2013c7fcf70>"
      ]
     },
     "execution_count": 7,
     "metadata": {},
     "output_type": "execute_result"
    }
   ],
   "source": [
    "# print(globals()['ascents'].head().to_string(index=False))\n",
    "climbs = globals()['climbs']\n",
    "climb_stats=globals()['climb_stats']\n",
    "# climb_cache_fields = globals()['climb_cache_fields']\n",
    "merged_df = pd.merge(climbs, climb_stats, left_on='uuid', right_on='climb_uuid', how='inner') #.drop(columns=['frames'])\n",
    "# Drop rows with layout_id not equal to 1\n",
    "merged_df = merged_df[merged_df['layout_id'] == 1]\n",
    "\n",
    "# remove rows with more than 1 ascensionist\n",
    "merged_df = merged_df[merged_df['ascensionist_count'] >= 2]\n",
    "merged_df['vgrade'] = merged_df['display_difficulty'].apply(map_vgrade)\n",
    "\n",
    "filtered_columns = ['name','vgrade','angle_y','display_difficulty','created_at', 'ascensionist_count','frames','fa_username', 'benchmark_difficulty',  'is_draft',  'climb_uuid']\n",
    "filtered_df = merged_df.loc[:, filtered_columns]\n",
    "\n",
    "# print(merged_df_filtered.head().to_string(index=False))\n",
    "show(filtered_df)\n",
    "\n",
    "# r12 - starthold  5\n",
    "# r13 - hand hold  2\n",
    "# r14 - finish hold 3\n",
    "# r15 - foot hold   4\n",
    "# p - hold position?\n",
    "\n",
    "# p1454r15p1455r15p1457r15p1467r15p1469r15p1477r15p1485r15p1493r15p1511r15p1521r15p1532r15p1547r15p1549r15\n",
    "# p1144r15 p1195r13 p1196r12 p1233r12 p1268r13 p1280r13 p1304r13 p1355r13 p1375r13 p1393r14 p1504r15 p1506r15 p1524r15 p1534r15 p1572r15 - EK | Crimp is not a crux\n",
    "\n",
    "# p1085r15 p1124r12 p1176r12 p1196r13 p1244r13 p1283r13 p1332r13 p1383r14 p1385r14 p1504r15 p1514r15 - Pinch n' Gaston\n",
    "\n",
    "# p1205r15 p1234r12 p1272r13 p1303r13 p1340r13 p1387r14 p1487r15 p1514r15 -sheep4wood\n",
    "\n",
    "# p1165r12 p1271r13 p1286r13 p1333r14 p1469r15 p1476r15 - Fission\n",
    "\n",
    "# p1146r12 p1163r12 p1227r13 p1249r13 p1265r13 p1269r14 p1457r15 p1467r15 p1484r15 p1496r15 p1503r15 p1506r15 p1516r15 - Plastic Age Mindset\n",
    "\n",
    "# p1127r12 p1164r12 p1233r13 p1235r13 p1283r13 p1287r13 p1299r13 p1348r13 p1379r14 p1458r15 p1507r15 - anti-compressant\n",
    "\n",
    "#layout_ids\n",
    "# 1 - original board ( only meaningfulone)\n",
    "# 2-8 ( other boards)\n"
   ]
  },
  {
   "cell_type": "markdown",
   "metadata": {},
   "source": [
    "### Some Graphs"
   ]
  },
  {
   "cell_type": "code",
   "execution_count": 8,
   "metadata": {},
   "outputs": [
    {
     "data": {
      "image/png": "[encoded data removed]",
      "text/plain": [
       "<Figure size 1000x600 with 1 Axes>"
      ]
     },
     "metadata": {},
     "output_type": "display_data"
    },
    {
     "data": {
      "image/png": "[encoded data removed]",
      "text/plain": [
       "<Figure size 1400x600 with 1 Axes>"
      ]
     },
     "metadata": {},
     "output_type": "display_data"
    },
    {
     "name": "stdout",
     "output_type": "stream",
     "text": [
      "Average Number of Holds: 12.626936592017621\n"
     ]
    }
   ],
   "source": [
    "# Calculate vgrade counts\n",
    "vgrade_counts = filtered_df['vgrade'].value_counts().sort_index()\n",
    "plt.figure(figsize=(10, 6))\n",
    "bars = vgrade_counts.plot(kind='bar', color='skyblue')\n",
    "for bar in bars.patches:\n",
    "    height = bar.get_height()\n",
    "    plt.text(bar.get_x() + bar.get_width() / 2, height + 0.5, f'{int(height)}', ha='center', va='bottom')\n",
    "plt.title('Count of Climbs for Each vgrade')\n",
    "plt.xlabel('vgrade')\n",
    "plt.ylabel('Count')\n",
    "plt.xticks(rotation=45)\n",
    "plt.grid(axis='y', linestyle='--', alpha=0.7)\n",
    "plt.tight_layout()\n",
    "plt.show()\n",
    "\n",
    "# Assuming 'filtered_df' contains your DataFrame with the 'frames' column\n",
    "filtered_df['hold_count'] = filtered_df['frames'].str.count('p')\n",
    "\n",
    "# Filter out counts beyond 35 holds\n",
    "filtered_counts = filtered_df['hold_count'].value_counts().sort_index().loc[:35]\n",
    "\n",
    "# Plotting the count of climbs with a certain number of holds\n",
    "plt.figure(figsize=(14, 6))  # Adjust the width by changing the first value (e.g., 14)\n",
    "filtered_counts.plot(kind='bar')\n",
    "plt.title('Count of Climbs with Different Numbers of Holds (Up to 35 Holds)')\n",
    "plt.xlabel('Number of Holds')\n",
    "plt.ylabel('Count of Climbs')\n",
    "plt.xticks(rotation=45)\n",
    "plt.grid(axis='y')\n",
    "plt.show()\n",
    "\n",
    "total_hold_count = (filtered_counts.index * filtered_counts).sum()\n",
    "\n",
    "# Calculate total count of climbs\n",
    "total_climbs = filtered_counts.sum()\n",
    "\n",
    "# Calculate average number of holds\n",
    "average_holds = total_hold_count / total_climbs\n",
    "\n",
    "print(\"Average Number of Holds:\", average_holds)"
   ]
  },
  {
   "cell_type": "markdown",
   "metadata": {},
   "source": [
    "### Preprocessing Data Functions"
   ]
  },
  {
   "cell_type": "code",
   "execution_count": 9,
   "metadata": {},
   "outputs": [
    {
     "name": "stdout",
     "output_type": "stream",
     "text": [
      "Triplet List: [(7, 6, 2), (13, 10, 2), (15, 18, 3), (19, 18, 3), (13, 24, 3), (21, 24, 3), (11, 26, 3), (7, 32, 3), (1, 34, 4), (12, 0, 5), (24, 11, 5)]\n"
     ]
    }
   ],
   "source": [
    "def id_to_index(id):\n",
    "    \n",
    "    if id <=1089: #bottom large (row) 17x1\n",
    "        index_offset = 35\n",
    "        row_index = 16 - (id - 1074)\n",
    "        final_index = index_offset + 2 * row_index\n",
    "    elif id <= 1395: #big holds (matrix) 17x18\n",
    "        index_offset = 35 + 35\n",
    "        index = id-1089\n",
    "        row = index//17\n",
    "        row_index = index%17\n",
    "        final_index = index_offset + row * 70 + 2 *row_index   \n",
    "    elif id <=1464: #bottom small (row) 18x1\n",
    "        row_index = 17 - (id - 1447)\n",
    "        final_index = 2 * row_index + 1\n",
    "    elif id <= 1599: # small holds (matrix) 9x15\n",
    "        index_offset = 35 + 35 + 35 + 1\n",
    "        index = id-1464\n",
    "        row = index//9\n",
    "        row_index = index% 9\n",
    "        final_index = index_offset + row * 70 + 4 * (row_index-1)\n",
    "    else:\n",
    "        final_index = id\n",
    "        print(id) \n",
    "    return final_index\n",
    "\n",
    "def id_to_coordinate(id):\n",
    "    index = id_to_index(id)-1\n",
    "    x = index % 35\n",
    "    y = index//35\n",
    "    if y >=35:\n",
    "        y-=2 #because the top 2 rows of large hand holds dont have any feet so its offset\n",
    "    return (x,y)\n",
    "\n",
    "# ids = [1464,1447,1088,1089,1090,1107,1109, 1465]\n",
    "# for id in range(len(ids)):\n",
    "#     print(f\"position {id+1}({ids[id]}): {id_to_index(ids[id])} {id_to_coordinate(ids[id])}\")\n",
    "\n",
    "# the value is:\n",
    "# 2-feet \n",
    "# 3-start \n",
    "# 4-hand \n",
    "# 5-finish\n",
    "def frame_to_ids(frame):\n",
    "    ids_list_1 = []\n",
    "    ids_list_2 = []\n",
    "    \n",
    "    # Split the frame string based on the 'p' delimiter\n",
    "    filtered_frame = frame.replace(',', '').replace('\"', '')\n",
    "    frame_parts = filtered_frame.split('p')[1:]\n",
    "    \n",
    "    for entry in frame_parts:\n",
    "        parts = entry.split('r')\n",
    "        id_1 = int(parts[0])\n",
    "        id_2 = int(parts[1])\n",
    "        \n",
    "        ids_list_1.append(id_1)\n",
    "        if id_2 in [12, 13, 14, 15]:\n",
    "            id_2 = [2, 3, 4, 5][id_2 - 12]\n",
    "        ids_list_2.append(id_2)\n",
    "    return ids_list_1, ids_list_2\n",
    "\n",
    "# takes in frame and converts to list of triplets with xy being coordiante in board matrix and z being the value\n",
    "def frame_to_triplets(frame):\n",
    "    ids_list_1, ids_list_2 = frame_to_ids(frame)\n",
    "    \n",
    "    triplet_list = []\n",
    "    for id_1, id_2 in zip(ids_list_1, ids_list_2):\n",
    "        coordinate = id_to_coordinate(id_1)\n",
    "        triplet = (coordinate[0], coordinate[1], id_2)\n",
    "        triplet_list.append(triplet)\n",
    "    \n",
    "    return triplet_list\n",
    "\n",
    "frame = \"p1127r12p1164r12p1233r13p1235r13p1283r13p1287r13p1299r13p1348r13p1379r14p1458r15p1507r15\"\n",
    "triplet_list = frame_to_triplets(frame)\n",
    "print(\"Triplet List:\", triplet_list)\n",
    "\n",
    "def triplets_to_matrix(triplet_list):\n",
    "    # Initialize a 35x35 matrix with zeros\n",
    "    matrix = [[0] * 35 for _ in range(35)]\n",
    "    \n",
    "    # Populate the matrix with z-values from the triplets\n",
    "    for triplet in triplet_list:\n",
    "        x, y, z = triplet\n",
    "        matrix[34-y][x] = z\n",
    "    \n",
    "    return matrix\n",
    "\n",
    "# matrix = triplets_to_matrix(triplet_list)\n",
    "# for row in matrix:\n",
    "#     print(row)\n",
    "\n",
    "def frame_to_sparse_matrix(frame):\n",
    "    triplet_list = frame_to_triplets(frame)\n",
    "    matrix = triplets_to_matrix(triplet_list)\n",
    "    sparse_matrix = sp.coo_matrix(matrix)\n",
    "    return sparse_matrix\n",
    "\n",
    "def is_frame_valid(frame):\n",
    "    # Extract the first list of IDs from the frame\n",
    "    if \"x\" in frame:\n",
    "        return False\n",
    "    ids_list_1, _ = frame_to_ids(frame)\n",
    "    \n",
    "    # look if any value in the first list is greater than 2000\n",
    "    for value in ids_list_1:\n",
    "        if value > 2000:\n",
    "            return False\n",
    "    return True"
   ]
  },
  {
   "cell_type": "markdown",
   "metadata": {},
   "source": [
    "### Create Training and Testing Sets from DF \n",
    "* preprocess the data\n",
    "* convert to coo sparse matrix representations\n",
    "* load into 2 pkl files"
   ]
  },
  {
   "cell_type": "code",
   "execution_count": 10,
   "metadata": {},
   "outputs": [],
   "source": [
    "import pickle\n",
    "import random\n",
    "from sklearn.model_selection import train_test_split\n",
    "\n",
    "# Initialize an empty dictionary to store sparse matrices\n",
    "sparse_matrix_dict = {}\n",
    "total_climbs = len(filtered_df)\n",
    "climbs_to_process = 100 # 94635  \n",
    "\n",
    "# shuffle the indices of climbs in the DataFrame\n",
    "climb_indices = list(range(total_climbs))\n",
    "random.shuffle(climb_indices)\n",
    "climbs_processed = 0\n",
    "\n",
    "# iterate over randomly selected climbs, convert each frame to sparse matrix, and store it in the dictionary\n",
    "for idx in climb_indices:\n",
    "    if climbs_processed >= climbs_to_process:\n",
    "        break  # Exit the loop if the desired number of climbs processed is reached\n",
    "    \n",
    "    climb_frame = filtered_df.iloc[idx]['frames']\n",
    "    if is_frame_valid(climb_frame):\n",
    "        sparse_matrix = frame_to_sparse_matrix(climb_frame)\n",
    "        sparse_matrix_dict[f'climb_{idx}'] = sparse_matrix\n",
    "        \n",
    "        climbs_processed += 1\n",
    "# print(climbs_processed)\n",
    "\n",
    "# create dataset\n",
    "with open('sparse_matrices.pkl', 'wb') as f:\n",
    "    pickle.dump(sparse_matrix_dict, f)\n",
    "with open('sparse_matrices.pkl', 'rb') as f:\n",
    "    sparse_matrix_dict = pickle.load(f)\n",
    "\n",
    "#split dataset into training and test\n",
    "train_matrices, test_matrices = train_test_split(list(sparse_matrix_dict.values()), test_size=0.2, random_state=42)\n",
    "with open('training_set.pkl', 'wb') as f:\n",
    "    pickle.dump(train_matrices, f)\n",
    "with open('testing_set.pkl', 'wb') as f:\n",
    "    pickle.dump(test_matrices, f)\n"
   ]
  },
  {
   "cell_type": "markdown",
   "metadata": {},
   "source": [
    "### VAE Model"
   ]
  },
  {
   "cell_type": "code",
   "execution_count": 11,
   "metadata": {},
   "outputs": [],
   "source": [
    "# %pip install numpy\n",
    "# %pip install tqdm\n",
    "# %pip install torchvision\n",
    "# %pip install torch torchvision torchaudio --index-url https://download.pytorch.org/whl/cu121\n",
    "# %pip list\n",
    "# print(torch.cuda.is_available())"
   ]
  },
  {
   "cell_type": "code",
   "execution_count": 12,
   "metadata": {},
   "outputs": [],
   "source": [
    "import torch\n",
    "import torch.nn as nn\n",
    "\n",
    "import numpy as np\n",
    "\n",
    "from tqdm import tqdm\n",
    "from torchvision.utils import save_image, make_grid"
   ]
  },
  {
   "cell_type": "markdown",
   "metadata": {},
   "source": [
    "### Model Hyperparameters"
   ]
  },
  {
   "cell_type": "code",
   "execution_count": 13,
   "metadata": {},
   "outputs": [],
   "source": [
    "dataset_path = '~/datasets'\n",
    "\n",
    "cuda = False # set True or False if using cuda\n",
    "DEVICE = torch.device(\"cuda\" if cuda else \"cpu\")\n",
    "\n",
    "\n",
    "batch_size = 100\n",
    "\n",
    "x_dim  = 35 #35x35\n",
    "hidden_dim = 400\n",
    "latent_dim = 200\n",
    "\n",
    "lr = 1e-3\n",
    "\n",
    "epochs = 10"
   ]
  },
  {
   "cell_type": "markdown",
   "metadata": {},
   "source": [
    "### Custom Dataset and Dataloader"
   ]
  },
  {
   "cell_type": "code",
   "execution_count": 14,
   "metadata": {},
   "outputs": [
    {
     "name": "stdout",
     "output_type": "stream",
     "text": [
      "First item in the test dataset:tensor(indices=tensor([[ 0,  2,  8, 12, 13, 15, 16, 18, 19, 26, 27, 28, 32, 34],\n",
      "                       [11,  1,  9,  9, 12, 12,  5, 15,  0, 15,  8,  7, 13, 18]]),\n",
      "       values=tensor([4., 3., 3., 3., 5., 5., 3., 3., 5., 3., 5., 2., 2., 5.]),\n",
      "       size=(35, 35), nnz=14, layout=torch.sparse_coo)\n"
     ]
    }
   ],
   "source": [
    "from torch.utils.data import Dataset, DataLoader\n",
    "\n",
    "class CustomSparseMatrixDataset(Dataset):\n",
    "    def __init__(self, file_path, train=True):\n",
    "        self.train = train\n",
    "        # oad train or test data \n",
    "        if self.train:\n",
    "            self.data = self.load_sparse_matrices(file_path_train)\n",
    "        else:\n",
    "            self.data = self.load_sparse_matrices(file_path_test)\n",
    "\n",
    "    def __len__(self):\n",
    "        return len(self.data)\n",
    "    \n",
    "    def __getitem__(self, idx):\n",
    "        # takes in index of COO sparse matrix and converts to a PyTorch sparse coo tensor\n",
    "        sparse_matrix = self.data[idx]\n",
    "        indices = torch.LongTensor(np.vstack([sparse_matrix.row, sparse_matrix.col]))\n",
    "        values = torch.FloatTensor(sparse_matrix.data)\n",
    "        shape = torch.Size(sparse_matrix.shape)\n",
    "        sparse_tensor = torch.sparse_coo_tensor(indices, values, shape)\n",
    "        return sparse_tensor\n",
    "\n",
    "    def load_sparse_matrices(self, file_path):\n",
    "        with open(file_path, 'rb') as f:\n",
    "            sparse_matrices = pickle.load(f)\n",
    "        return sparse_matrices\n",
    "    \n",
    "def custom_collate_fn(batch):\n",
    "    # takes in batch/list of sparse tensors and converts to tuple of sparse tensors\n",
    "    return tuple(batch)\n",
    "\n",
    "file_path_train = \"training_set.pkl\"\n",
    "file_path_test = \"testing_set.pkl\"\n",
    "\n",
    "# Create train and test datasets\n",
    "train_dataset = CustomSparseMatrixDataset(file_path_train, train=True)\n",
    "test_dataset = CustomSparseMatrixDataset(file_path_test, train=False)\n",
    "\n",
    "print(f\"First item in the test dataset:{train_dataset[43]}\")\n",
    "# DataLoader params\n",
    "batch_size = 64\n",
    "kwargs = {'num_workers': 0, 'pin_memory': False, 'collate_fn': custom_collate_fn}\n",
    "\n",
    "# train and test DataLoaders\n",
    "train_loader = DataLoader(dataset=train_dataset, batch_size=batch_size, shuffle=True, **kwargs)\n",
    "test_loader = DataLoader(dataset=test_dataset, batch_size=batch_size, shuffle=False, **kwargs)"
   ]
  },
  {
   "cell_type": "markdown",
   "metadata": {},
   "source": [
    "### Encoder, Decoder, and Model"
   ]
  },
  {
   "cell_type": "code",
   "execution_count": 15,
   "metadata": {},
   "outputs": [],
   "source": [
    "class Encoder(nn.Module):\n",
    "    \n",
    "    def __init__(self, input_dim, hidden_dim, latent_dim):\n",
    "        super(Encoder, self).__init__()\n",
    "\n",
    "        self.FC_input = nn.Linear(input_dim, hidden_dim)\n",
    "        self.FC_input2 = nn.Linear(hidden_dim, hidden_dim)\n",
    "        self.FC_mean  = nn.Linear(hidden_dim, latent_dim)\n",
    "        self.FC_var   = nn.Linear (hidden_dim, latent_dim)\n",
    "        \n",
    "        self.LeakyReLU = nn.LeakyReLU(0.2)\n",
    "        \n",
    "        self.training = True\n",
    "        \n",
    "    def forward(self, x):\n",
    "        h_       = self.LeakyReLU(self.FC_input(x))\n",
    "        h_       = self.LeakyReLU(self.FC_input2(h_))\n",
    "        mean     = self.FC_mean(h_)\n",
    "        log_var  = self.FC_var(h_)                     # encoder produces mean and log of variance \n",
    "                                                       #             (i.e., parateters of simple tractable normal distribution \"q\"\n",
    "        \n",
    "        return mean, log_var\n",
    "class Decoder(nn.Module):\n",
    "    def __init__(self, latent_dim, hidden_dim, output_dim):\n",
    "        super(Decoder, self).__init__()\n",
    "        self.FC_hidden = nn.Linear(latent_dim, hidden_dim)\n",
    "        self.FC_hidden2 = nn.Linear(hidden_dim, hidden_dim)\n",
    "        self.FC_output = nn.Linear(hidden_dim, output_dim)\n",
    "        \n",
    "        self.LeakyReLU = nn.LeakyReLU(0.2)\n",
    "        \n",
    "    def forward(self, x):\n",
    "        h     = self.LeakyReLU(self.FC_hidden(x))\n",
    "        h     = self.LeakyReLU(self.FC_hidden2(h))\n",
    "        \n",
    "        x_hat = torch.sigmoid(self.FC_output(h))\n",
    "        return x_hat\n",
    "    \n",
    "class Model(nn.Module):\n",
    "    def __init__(self, Encoder, Decoder):\n",
    "        super(Model, self).__init__()\n",
    "        self.Encoder = Encoder\n",
    "        self.Decoder = Decoder\n",
    "        \n",
    "    def reparameterization(self, mean, var):\n",
    "        epsilon = torch.randn_like(var).to(DEVICE)        # sampling epsilon        \n",
    "        z = mean + var*epsilon                          # reparameterization trick\n",
    "        return z\n",
    "        \n",
    "                \n",
    "    def forward(self, x):\n",
    "        mean, log_var = self.Encoder(x)\n",
    "        z = self.reparameterization(mean, torch.exp(0.5 * log_var)) # takes exponential function (log var -> var)\n",
    "        x_hat            = self.Decoder(z)\n",
    "        \n",
    "        return x_hat, mean, log_var"
   ]
  },
  {
   "cell_type": "code",
   "execution_count": 16,
   "metadata": {},
   "outputs": [],
   "source": [
    "encoder = Encoder(input_dim=x_dim, hidden_dim=hidden_dim, latent_dim=latent_dim)\n",
    "decoder = Decoder(latent_dim=latent_dim, hidden_dim = hidden_dim, output_dim = x_dim)\n",
    "\n",
    "model = Model(Encoder=encoder, Decoder=decoder).to(DEVICE)"
   ]
  },
  {
   "cell_type": "markdown",
   "metadata": {},
   "source": [
    "### Loss Function and Optimizer"
   ]
  },
  {
   "cell_type": "code",
   "execution_count": 17,
   "metadata": {},
   "outputs": [],
   "source": [
    "from torch.optim import Adam\n",
    "\n",
    "BCE_loss = nn.BCELoss()\n",
    "\n",
    "def loss_function(x, x_hat, mean, log_var):\n",
    "    x_dense = torch.sigmoid(x.to_dense())\n",
    "    # Normalize the input values to be between 0 and 1\n",
    "    x_hat_normalized = torch.sigmoid(x_hat)\n",
    "    reproduction_loss = nn.functional.binary_cross_entropy(x_hat, x_dense, reduction='sum')\n",
    "    KLD      = - 0.5 * torch.sum(1+ log_var - mean.pow(2) - log_var.exp())\n",
    "\n",
    "    return reproduction_loss + KLD\n",
    "\n",
    "\n",
    "optimizer = Adam(model.parameters(), lr=lr)"
   ]
  },
  {
   "cell_type": "markdown",
   "metadata": {},
   "source": [
    "### Training VAE"
   ]
  },
  {
   "cell_type": "code",
   "execution_count": 20,
   "metadata": {},
   "outputs": [
    {
     "name": "stdout",
     "output_type": "stream",
     "text": [
      "Start training VAE...\n"
     ]
    },
    {
     "ename": "NotImplementedError",
     "evalue": "Could not run 'aten::view' with arguments from the 'SparseCPU' backend. This could be because the operator doesn't exist for this backend, or was omitted during the selective/custom build process (if using custom build). If you are a Facebook employee using PyTorch on mobile, please visit https://fburl.com/ptmfixes for possible resolutions. 'aten::view' is only available for these backends: [CPU, CUDA, Meta, QuantizedCPU, QuantizedCUDA, MkldnnCPU, NestedTensorCPU, NestedTensorCUDA, BackendSelect, Python, FuncTorchDynamicLayerBackMode, Functionalize, Named, Conjugate, Negative, ZeroTensor, ADInplaceOrView, AutogradOther, AutogradCPU, AutogradCUDA, AutogradHIP, AutogradXLA, AutogradMPS, AutogradIPU, AutogradXPU, AutogradHPU, AutogradVE, AutogradLazy, AutogradMTIA, AutogradPrivateUse1, AutogradPrivateUse2, AutogradPrivateUse3, AutogradMeta, AutogradNestedTensor, Tracer, AutocastCPU, AutocastCUDA, FuncTorchBatched, BatchedNestedTensor, FuncTorchVmapMode, Batched, VmapMode, FuncTorchGradWrapper, PythonTLSSnapshot, FuncTorchDynamicLayerFrontMode, PreDispatch, PythonDispatcher].\n\nCPU: registered at aten\\src\\ATen\\RegisterCPU.cpp:31357 [kernel]\nCUDA: registered at aten\\src\\ATen\\RegisterCUDA.cpp:44411 [kernel]\nMeta: registered at aten\\src\\ATen\\RegisterMeta.cpp:26984 [kernel]\nQuantizedCPU: registered at aten\\src\\ATen\\RegisterQuantizedCPU.cpp:944 [kernel]\nQuantizedCUDA: registered at aten\\src\\ATen\\RegisterQuantizedCUDA.cpp:459 [kernel]\nMkldnnCPU: registered at aten\\src\\ATen\\RegisterMkldnnCPU.cpp:515 [kernel]\nNestedTensorCPU: registered at aten\\src\\ATen\\RegisterNestedTensorCPU.cpp:775 [kernel]\nNestedTensorCUDA: registered at aten\\src\\ATen\\RegisterNestedTensorCUDA.cpp:931 [kernel]\nBackendSelect: fallthrough registered at ..\\aten\\src\\ATen\\core\\BackendSelectFallbackKernel.cpp:3 [backend fallback]\nPython: registered at ..\\aten\\src\\ATen\\core\\PythonFallbackKernel.cpp:154 [backend fallback]\nFuncTorchDynamicLayerBackMode: registered at ..\\aten\\src\\ATen\\functorch\\DynamicLayer.cpp:498 [backend fallback]\nFunctionalize: registered at aten\\src\\ATen\\RegisterFunctionalization_3.cpp:24643 [kernel]\nNamed: registered at ..\\aten\\src\\ATen\\core\\NamedRegistrations.cpp:7 [backend fallback]\nConjugate: fallthrough registered at ..\\aten\\src\\ATen\\ConjugateFallback.cpp:21 [kernel]\nNegative: fallthrough registered at ..\\aten\\src\\ATen\\native\\NegateFallback.cpp:23 [kernel]\nZeroTensor: registered at aten\\src\\ATen\\RegisterZeroTensor.cpp:161 [kernel]\nADInplaceOrView: registered at ..\\torch\\csrc\\autograd\\generated\\ADInplaceOrViewType_1.cpp:5216 [kernel]\nAutogradOther: registered at ..\\torch\\csrc\\autograd\\generated\\VariableType_3.cpp:18740 [autograd kernel]\nAutogradCPU: registered at ..\\torch\\csrc\\autograd\\generated\\VariableType_3.cpp:18740 [autograd kernel]\nAutogradCUDA: registered at ..\\torch\\csrc\\autograd\\generated\\VariableType_3.cpp:18740 [autograd kernel]\nAutogradHIP: registered at ..\\torch\\csrc\\autograd\\generated\\VariableType_3.cpp:18740 [autograd kernel]\nAutogradXLA: registered at ..\\torch\\csrc\\autograd\\generated\\VariableType_3.cpp:18740 [autograd kernel]\nAutogradMPS: registered at ..\\torch\\csrc\\autograd\\generated\\VariableType_3.cpp:18740 [autograd kernel]\nAutogradIPU: registered at ..\\torch\\csrc\\autograd\\generated\\VariableType_3.cpp:18740 [autograd kernel]\nAutogradXPU: registered at ..\\torch\\csrc\\autograd\\generated\\VariableType_3.cpp:18740 [autograd kernel]\nAutogradHPU: registered at ..\\torch\\csrc\\autograd\\generated\\VariableType_3.cpp:18740 [autograd kernel]\nAutogradVE: registered at ..\\torch\\csrc\\autograd\\generated\\VariableType_3.cpp:18740 [autograd kernel]\nAutogradLazy: registered at ..\\torch\\csrc\\autograd\\generated\\VariableType_3.cpp:18740 [autograd kernel]\nAutogradMTIA: registered at ..\\torch\\csrc\\autograd\\generated\\VariableType_3.cpp:18740 [autograd kernel]\nAutogradPrivateUse1: registered at ..\\torch\\csrc\\autograd\\generated\\VariableType_3.cpp:18740 [autograd kernel]\nAutogradPrivateUse2: registered at ..\\torch\\csrc\\autograd\\generated\\VariableType_3.cpp:18740 [autograd kernel]\nAutogradPrivateUse3: registered at ..\\torch\\csrc\\autograd\\generated\\VariableType_3.cpp:18740 [autograd kernel]\nAutogradMeta: registered at ..\\torch\\csrc\\autograd\\generated\\VariableType_3.cpp:18740 [autograd kernel]\nAutogradNestedTensor: registered at ..\\torch\\csrc\\autograd\\generated\\VariableType_3.cpp:18719 [kernel]\nTracer: registered at ..\\torch\\csrc\\autograd\\generated\\TraceType_3.cpp:14672 [kernel]\nAutocastCPU: fallthrough registered at ..\\aten\\src\\ATen\\autocast_mode.cpp:378 [backend fallback]\nAutocastCUDA: fallthrough registered at ..\\aten\\src\\ATen\\autocast_mode.cpp:244 [backend fallback]\nFuncTorchBatched: registered at ..\\aten\\src\\ATen\\functorch\\BatchRulesViews.cpp:558 [kernel]\nBatchedNestedTensor: registered at ..\\aten\\src\\ATen\\functorch\\LegacyBatchingRegistrations.cpp:746 [backend fallback]\nFuncTorchVmapMode: fallthrough registered at ..\\aten\\src\\ATen\\functorch\\VmapModeRegistrations.cpp:28 [backend fallback]\nBatched: registered at ..\\aten\\src\\ATen\\LegacyBatchingRegistrations.cpp:1079 [kernel]\nVmapMode: fallthrough registered at ..\\aten\\src\\ATen\\VmapModeRegistrations.cpp:33 [backend fallback]\nFuncTorchGradWrapper: registered at ..\\aten\\src\\ATen\\functorch\\TensorWrapper.cpp:203 [backend fallback]\nPythonTLSSnapshot: registered at ..\\aten\\src\\ATen\\core\\PythonFallbackKernel.cpp:162 [backend fallback]\nFuncTorchDynamicLayerFrontMode: registered at ..\\aten\\src\\ATen\\functorch\\DynamicLayer.cpp:494 [backend fallback]\nPreDispatch: registered at ..\\aten\\src\\ATen\\core\\PythonFallbackKernel.cpp:166 [backend fallback]\nPythonDispatcher: registered at ..\\aten\\src\\ATen\\core\\PythonFallbackKernel.cpp:158 [backend fallback]\n",
     "output_type": "error",
     "traceback": [
      "\u001b[1;31m---------------------------------------------------------------------------\u001b[0m",
      "\u001b[1;31mNotImplementedError\u001b[0m                       Traceback (most recent call last)",
      "Cell \u001b[1;32mIn[20], line 8\u001b[0m\n\u001b[0;32m      6\u001b[0m overall_loss \u001b[38;5;241m=\u001b[39m \u001b[38;5;241m0\u001b[39m\n\u001b[0;32m      7\u001b[0m \u001b[38;5;28;01mfor\u001b[39;00m batch_idx, x \u001b[38;5;129;01min\u001b[39;00m \u001b[38;5;28menumerate\u001b[39m(train_loader):\n\u001b[1;32m----> 8\u001b[0m     x \u001b[38;5;241m=\u001b[39m \u001b[43mx\u001b[49m\u001b[43m[\u001b[49m\u001b[38;5;241;43m0\u001b[39;49m\u001b[43m]\u001b[49m\u001b[38;5;241;43m.\u001b[39;49m\u001b[43mview\u001b[49m\u001b[43m(\u001b[49m\u001b[43mbatch_size\u001b[49m\u001b[43m,\u001b[49m\u001b[43m \u001b[49m\u001b[43mx_dim\u001b[49m\u001b[43m)\u001b[49m\n\u001b[0;32m      9\u001b[0m     x \u001b[38;5;241m=\u001b[39m x\u001b[38;5;241m.\u001b[39mto(DEVICE)\n\u001b[0;32m     11\u001b[0m     optimizer\u001b[38;5;241m.\u001b[39mzero_grad()\n",
      "\u001b[1;31mNotImplementedError\u001b[0m: Could not run 'aten::view' with arguments from the 'SparseCPU' backend. This could be because the operator doesn't exist for this backend, or was omitted during the selective/custom build process (if using custom build). If you are a Facebook employee using PyTorch on mobile, please visit https://fburl.com/ptmfixes for possible resolutions. 'aten::view' is only available for these backends: [CPU, CUDA, Meta, QuantizedCPU, QuantizedCUDA, MkldnnCPU, NestedTensorCPU, NestedTensorCUDA, BackendSelect, Python, FuncTorchDynamicLayerBackMode, Functionalize, Named, Conjugate, Negative, ZeroTensor, ADInplaceOrView, AutogradOther, AutogradCPU, AutogradCUDA, AutogradHIP, AutogradXLA, AutogradMPS, AutogradIPU, AutogradXPU, AutogradHPU, AutogradVE, AutogradLazy, AutogradMTIA, AutogradPrivateUse1, AutogradPrivateUse2, AutogradPrivateUse3, AutogradMeta, AutogradNestedTensor, Tracer, AutocastCPU, AutocastCUDA, FuncTorchBatched, BatchedNestedTensor, FuncTorchVmapMode, Batched, VmapMode, FuncTorchGradWrapper, PythonTLSSnapshot, FuncTorchDynamicLayerFrontMode, PreDispatch, PythonDispatcher].\n\nCPU: registered at aten\\src\\ATen\\RegisterCPU.cpp:31357 [kernel]\nCUDA: registered at aten\\src\\ATen\\RegisterCUDA.cpp:44411 [kernel]\nMeta: registered at aten\\src\\ATen\\RegisterMeta.cpp:26984 [kernel]\nQuantizedCPU: registered at aten\\src\\ATen\\RegisterQuantizedCPU.cpp:944 [kernel]\nQuantizedCUDA: registered at aten\\src\\ATen\\RegisterQuantizedCUDA.cpp:459 [kernel]\nMkldnnCPU: registered at aten\\src\\ATen\\RegisterMkldnnCPU.cpp:515 [kernel]\nNestedTensorCPU: registered at aten\\src\\ATen\\RegisterNestedTensorCPU.cpp:775 [kernel]\nNestedTensorCUDA: registered at aten\\src\\ATen\\RegisterNestedTensorCUDA.cpp:931 [kernel]\nBackendSelect: fallthrough registered at ..\\aten\\src\\ATen\\core\\BackendSelectFallbackKernel.cpp:3 [backend fallback]\nPython: registered at ..\\aten\\src\\ATen\\core\\PythonFallbackKernel.cpp:154 [backend fallback]\nFuncTorchDynamicLayerBackMode: registered at ..\\aten\\src\\ATen\\functorch\\DynamicLayer.cpp:498 [backend fallback]\nFunctionalize: registered at aten\\src\\ATen\\RegisterFunctionalization_3.cpp:24643 [kernel]\nNamed: registered at ..\\aten\\src\\ATen\\core\\NamedRegistrations.cpp:7 [backend fallback]\nConjugate: fallthrough registered at ..\\aten\\src\\ATen\\ConjugateFallback.cpp:21 [kernel]\nNegative: fallthrough registered at ..\\aten\\src\\ATen\\native\\NegateFallback.cpp:23 [kernel]\nZeroTensor: registered at aten\\src\\ATen\\RegisterZeroTensor.cpp:161 [kernel]\nADInplaceOrView: registered at ..\\torch\\csrc\\autograd\\generated\\ADInplaceOrViewType_1.cpp:5216 [kernel]\nAutogradOther: registered at ..\\torch\\csrc\\autograd\\generated\\VariableType_3.cpp:18740 [autograd kernel]\nAutogradCPU: registered at ..\\torch\\csrc\\autograd\\generated\\VariableType_3.cpp:18740 [autograd kernel]\nAutogradCUDA: registered at ..\\torch\\csrc\\autograd\\generated\\VariableType_3.cpp:18740 [autograd kernel]\nAutogradHIP: registered at ..\\torch\\csrc\\autograd\\generated\\VariableType_3.cpp:18740 [autograd kernel]\nAutogradXLA: registered at ..\\torch\\csrc\\autograd\\generated\\VariableType_3.cpp:18740 [autograd kernel]\nAutogradMPS: registered at ..\\torch\\csrc\\autograd\\generated\\VariableType_3.cpp:18740 [autograd kernel]\nAutogradIPU: registered at ..\\torch\\csrc\\autograd\\generated\\VariableType_3.cpp:18740 [autograd kernel]\nAutogradXPU: registered at ..\\torch\\csrc\\autograd\\generated\\VariableType_3.cpp:18740 [autograd kernel]\nAutogradHPU: registered at ..\\torch\\csrc\\autograd\\generated\\VariableType_3.cpp:18740 [autograd kernel]\nAutogradVE: registered at ..\\torch\\csrc\\autograd\\generated\\VariableType_3.cpp:18740 [autograd kernel]\nAutogradLazy: registered at ..\\torch\\csrc\\autograd\\generated\\VariableType_3.cpp:18740 [autograd kernel]\nAutogradMTIA: registered at ..\\torch\\csrc\\autograd\\generated\\VariableType_3.cpp:18740 [autograd kernel]\nAutogradPrivateUse1: registered at ..\\torch\\csrc\\autograd\\generated\\VariableType_3.cpp:18740 [autograd kernel]\nAutogradPrivateUse2: registered at ..\\torch\\csrc\\autograd\\generated\\VariableType_3.cpp:18740 [autograd kernel]\nAutogradPrivateUse3: registered at ..\\torch\\csrc\\autograd\\generated\\VariableType_3.cpp:18740 [autograd kernel]\nAutogradMeta: registered at ..\\torch\\csrc\\autograd\\generated\\VariableType_3.cpp:18740 [autograd kernel]\nAutogradNestedTensor: registered at ..\\torch\\csrc\\autograd\\generated\\VariableType_3.cpp:18719 [kernel]\nTracer: registered at ..\\torch\\csrc\\autograd\\generated\\TraceType_3.cpp:14672 [kernel]\nAutocastCPU: fallthrough registered at ..\\aten\\src\\ATen\\autocast_mode.cpp:378 [backend fallback]\nAutocastCUDA: fallthrough registered at ..\\aten\\src\\ATen\\autocast_mode.cpp:244 [backend fallback]\nFuncTorchBatched: registered at ..\\aten\\src\\ATen\\functorch\\BatchRulesViews.cpp:558 [kernel]\nBatchedNestedTensor: registered at ..\\aten\\src\\ATen\\functorch\\LegacyBatchingRegistrations.cpp:746 [backend fallback]\nFuncTorchVmapMode: fallthrough registered at ..\\aten\\src\\ATen\\functorch\\VmapModeRegistrations.cpp:28 [backend fallback]\nBatched: registered at ..\\aten\\src\\ATen\\LegacyBatchingRegistrations.cpp:1079 [kernel]\nVmapMode: fallthrough registered at ..\\aten\\src\\ATen\\VmapModeRegistrations.cpp:33 [backend fallback]\nFuncTorchGradWrapper: registered at ..\\aten\\src\\ATen\\functorch\\TensorWrapper.cpp:203 [backend fallback]\nPythonTLSSnapshot: registered at ..\\aten\\src\\ATen\\core\\PythonFallbackKernel.cpp:162 [backend fallback]\nFuncTorchDynamicLayerFrontMode: registered at ..\\aten\\src\\ATen\\functorch\\DynamicLayer.cpp:494 [backend fallback]\nPreDispatch: registered at ..\\aten\\src\\ATen\\core\\PythonFallbackKernel.cpp:166 [backend fallback]\nPythonDispatcher: registered at ..\\aten\\src\\ATen\\core\\PythonFallbackKernel.cpp:158 [backend fallback]\n"
     ]
    }
   ],
   "source": [
    "print(\"Start training VAE...\")\n",
    "model.train()\n",
    "# for every batch index and batch data samples(x) loaded by the train loader\n",
    "# x uses collate function to represent tuple of sparse tensors\n",
    "for epoch in range(epochs):\n",
    "    overall_loss = 0\n",
    "    for batch_idx, x in enumerate(train_loader):\n",
    "        x = x[0].view(batch_size, x_dim)\n",
    "        x = x.to(DEVICE)\n",
    "\n",
    "        optimizer.zero_grad()\n",
    "\n",
    "        x_hat, mean, log_var = model(x)\n",
    "        loss = loss_function(x, x_hat, mean, log_var)\n",
    "        \n",
    "        overall_loss += loss.item()\n",
    "        \n",
    "        loss.backward()\n",
    "        optimizer.step()\n",
    "\n",
    "    print(\"\\tEpoch\", epoch + 1, \"complete!\", \"\\tAverage Loss: \", overall_loss / (batch_idx*batch_size))\n",
    "    \n",
    "print(\"Finish!!\")"
   ]
  },
  {
   "cell_type": "markdown",
   "metadata": {},
   "source": [
    "### Generating with VAE"
   ]
  },
  {
   "cell_type": "code",
   "execution_count": null,
   "metadata": {},
   "outputs": [
    {
     "name": "stderr",
     "output_type": "stream",
     "text": [
      "  0%|          | 0/100 [00:02<?, ?it/s]\n"
     ]
    }
   ],
   "source": [
    "model.eval()\n",
    "\n",
    "with torch.no_grad():\n",
    "    for batch_idx, (x, _) in enumerate(tqdm(test_loader)):\n",
    "        x = x.view(batch_size, x_dim)\n",
    "        x = x.to(DEVICE)\n",
    "        \n",
    "        x_hat, _, _ = model(x)\n",
    "\n",
    "\n",
    "        break"
   ]
  },
  {
   "cell_type": "code",
   "execution_count": null,
   "metadata": {},
   "outputs": [],
   "source": [
    "def show_image(x, idx):\n",
    "    x = x.view(batch_size, 35, 35)\n",
    "\n",
    "    fig = plt.figure()\n",
    "    plt.imshow(x[idx].cpu().numpy())"
   ]
  },
  {
   "cell_type": "markdown",
   "metadata": {},
   "source": [
    "Define Loss function and optimizer"
   ]
  },
  {
   "cell_type": "code",
   "execution_count": null,
   "metadata": {},
   "outputs": [
    {
     "data": {
      "image/png": "[encoded data removed]",
      "text/plain": [
       "<Figure size 640x480 with 1 Axes>"
      ]
     },
     "metadata": {},
     "output_type": "display_data"
    }
   ],
   "source": [
    "show_image(x, idx=0)\n",
    "# def show_climb(x,idx):"
   ]
  }
 ],
 "metadata": {
  "kernelspec": {
   "display_name": ".venv",
   "language": "python",
   "name": "python3"
  },
  "language_info": {
   "codemirror_mode": {
    "name": "ipython",
    "version": 3
   },
   "file_extension": ".py",
   "mimetype": "text/x-python",
   "name": "python",
   "nbconvert_exporter": "python",
   "pygments_lexer": "ipython3",
   "version": "3.11.0"
  }
 },
 "nbformat": 4,
 "nbformat_minor": 2
}

{
 "cells": [
  {
   "cell_type": "code",
   "execution_count": 2,
   "metadata": {},
   "outputs": [
    {
     "name": "stdout",
     "output_type": "stream",
     "text": [
      "Requirement already satisfied: boardlib in c:\\users\\viniciusdugue\\appdata\\local\\programs\\python\\python312\\lib\\site-packages (0.5.2)\n",
      "Requirement already satisfied: bs4 in c:\\users\\viniciusdugue\\appdata\\local\\programs\\python\\python312\\lib\\site-packages (from boardlib) (0.0.2)\n",
      "Requirement already satisfied: requests in c:\\users\\viniciusdugue\\appdata\\local\\programs\\python\\python312\\lib\\site-packages (from boardlib) (2.31.0)\n",
      "Requirement already satisfied: beautifulsoup4 in c:\\users\\viniciusdugue\\appdata\\local\\programs\\python\\python312\\lib\\site-packages (from bs4->boardlib) (4.12.3)\n",
      "Requirement already satisfied: charset-normalizer<4,>=2 in c:\\users\\viniciusdugue\\appdata\\local\\programs\\python\\python312\\lib\\site-packages (from requests->boardlib) (3.3.2)\n",
      "Requirement already satisfied: idna<4,>=2.5 in c:\\users\\viniciusdugue\\appdata\\local\\programs\\python\\python312\\lib\\site-packages (from requests->boardlib) (3.7)\n",
      "Requirement already satisfied: urllib3<3,>=1.21.1 in c:\\users\\viniciusdugue\\appdata\\local\\programs\\python\\python312\\lib\\site-packages (from requests->boardlib) (2.2.1)\n",
      "Requirement already satisfied: certifi>=2017.4.17 in c:\\users\\viniciusdugue\\appdata\\local\\programs\\python\\python312\\lib\\site-packages (from requests->boardlib) (2024.2.2)\n",
      "Requirement already satisfied: soupsieve>1.2 in c:\\users\\viniciusdugue\\appdata\\local\\programs\\python\\python312\\lib\\site-packages (from beautifulsoup4->bs4->boardlib) (2.5)\n",
      "Note: you may need to restart the kernel to use updated packages.\n"
     ]
    },
    {
     "name": "stderr",
     "output_type": "stream",
     "text": [
      "\n",
      "[notice] A new release of pip is available: 24.1 -> 24.1.1\n",
      "[notice] To update, run: python.exe -m pip install --upgrade pip\n"
     ]
    }
   ],
   "source": [
    "# %pip uninstall boardlib\n",
    "%pip install boardlib\n",
    "# %pip install pandas\n",
    "# %pip install pandasgui\n",
    "# Download the kilter dataset by running this in the terminal:\n",
    "# boardlib database kilter ./kilter.db"
   ]
  },
  {
   "cell_type": "code",
   "execution_count": 3,
   "metadata": {},
   "outputs": [],
   "source": [
    "import sqlite3\n",
    "import boardlib\n",
    "import pandas as pd\n",
    "# from pandasgui import show\n",
    "import matplotlib.pyplot as plt\n",
    "import scipy.sparse as sp"
   ]
  },
  {
   "cell_type": "markdown",
   "metadata": {},
   "source": []
  },
  {
   "cell_type": "code",
   "execution_count": 4,
   "metadata": {},
   "outputs": [
    {
     "name": "stdout",
     "output_type": "stream",
     "text": [
      "[]\n"
     ]
    }
   ],
   "source": [
    "\n",
    "con = sqlite3.connect('kilter.db')\n",
    "cur = con.cursor()\n",
    "table_list = [a for a in cur.execute(\"SELECT name FROM sqlite_master WHERE type = 'table'\")]\n",
    "table_names = [entry[0] for entry in table_list]\n",
    "table_names.sort()\n",
    "print(table_names)\n",
    "con.close()"
   ]
  },
  {
   "cell_type": "markdown",
   "metadata": {},
   "source": []
  },
  {
   "cell_type": "code",
   "execution_count": 5,
   "metadata": {},
   "outputs": [],
   "source": [
    "def table_to_df(table_name):\n",
    "    con = sqlite3.connect('kilter.db')\n",
    "\n",
    "    df =  pd.read_sql_query(f\"SELECT * FROM {table_name}\", con)\n",
    "    \n",
    "    con.close()\n",
    "\n",
    "    return df"
   ]
  },
  {
   "cell_type": "code",
   "execution_count": 6,
   "metadata": {},
   "outputs": [
    {
     "name": "stdout",
     "output_type": "stream",
     "text": [
      "The available dataframes are: \n",
      "\t\n"
     ]
    }
   ],
   "source": [
    "# get all tables as dfs\n",
    "for table_name in table_names:\n",
    "    globals()[table_name] = table_to_df(table_name)\n",
    "print(\"The available dataframes are: \\n\\t\" + \"\\n\\t\".join(table_names))"
   ]
  },
  {
   "cell_type": "code",
   "execution_count": 7,
   "metadata": {},
   "outputs": [],
   "source": [
    "# this feels so wrong but wcyd. Could reduce the lines of code but lets just keep it easy to read and understand\n",
    "def map_vgrade(difficulty):\n",
    "    if 10 <= difficulty < 12:\n",
    "        return 0\n",
    "    elif 12 <= difficulty < 14:\n",
    "        return 1\n",
    "    elif 14 <= difficulty < 16:\n",
    "        return 2\n",
    "    elif 16 <= difficulty < 18:\n",
    "        return 3\n",
    "    elif 18 <= difficulty < 20:\n",
    "        return 4\n",
    "    elif 20 <= difficulty < 22:\n",
    "        return 5\n",
    "    elif 22 <= difficulty < 23:\n",
    "        return 6\n",
    "    elif 23 <= difficulty < 24:\n",
    "        return 7\n",
    "    elif 24 <= difficulty < 26:\n",
    "        return 8\n",
    "    elif 26 <= difficulty < 28:\n",
    "        return 9\n",
    "    elif 28 <= difficulty < 29:\n",
    "        return 10\n",
    "    elif 29 <= difficulty < 30:\n",
    "        return 11\n",
    "    elif 30 <= difficulty < 31:\n",
    "        return 12\n",
    "    elif 31 <= difficulty < 32:\n",
    "        return 13\n",
    "    elif 32 <= difficulty < 33:\n",
    "        return 14\n",
    "    elif difficulty >= 33:\n",
    "        return 15\n",
    "    else:\n",
    "        return None\n"
   ]
  },
  {
   "cell_type": "markdown",
   "metadata": {},
   "source": [
    "### Create DF with necessary columns and data"
   ]
  },
  {
   "cell_type": "code",
   "execution_count": 8,
   "metadata": {},
   "outputs": [
    {
     "ename": "NameError",
     "evalue": "name 'climbs' is not defined",
     "output_type": "error",
     "traceback": [
      "\u001b[1;31m---------------------------------------------------------------------------\u001b[0m",
      "\u001b[1;31mNameError\u001b[0m                                 Traceback (most recent call last)",
      "Cell \u001b[1;32mIn[8], line 2\u001b[0m\n\u001b[0;32m      1\u001b[0m \u001b[38;5;66;03m# climb_cache_fields = globals()['climb_cache_fields']\u001b[39;00m\n\u001b[1;32m----> 2\u001b[0m merged_df \u001b[38;5;241m=\u001b[39m pd\u001b[38;5;241m.\u001b[39mmerge(\u001b[43mclimbs\u001b[49m, climb_stats, left_on\u001b[38;5;241m=\u001b[39m\u001b[38;5;124m'\u001b[39m\u001b[38;5;124muuid\u001b[39m\u001b[38;5;124m'\u001b[39m, right_on\u001b[38;5;241m=\u001b[39m\u001b[38;5;124m'\u001b[39m\u001b[38;5;124mclimb_uuid\u001b[39m\u001b[38;5;124m'\u001b[39m, how\u001b[38;5;241m=\u001b[39m\u001b[38;5;124m'\u001b[39m\u001b[38;5;124minner\u001b[39m\u001b[38;5;124m'\u001b[39m) \u001b[38;5;66;03m#.drop(columns=['frames'])\u001b[39;00m\n\u001b[0;32m      3\u001b[0m \u001b[38;5;66;03m# Drop rows with layout_id not equal to 1\u001b[39;00m\n\u001b[0;32m      4\u001b[0m merged_df \u001b[38;5;241m=\u001b[39m merged_df[merged_df[\u001b[38;5;124m'\u001b[39m\u001b[38;5;124mlayout_id\u001b[39m\u001b[38;5;124m'\u001b[39m] \u001b[38;5;241m==\u001b[39m \u001b[38;5;241m1\u001b[39m]\n",
      "\u001b[1;31mNameError\u001b[0m: name 'climbs' is not defined"
     ]
    }
   ],
   "source": [
    "# climb_cache_fields = globals()['climb_cache_fields']\n",
    "merged_df = pd.merge(climbs, climb_stats, left_on='uuid', right_on='climb_uuid', how='inner') #.drop(columns=['frames'])\n",
    "# Drop rows with layout_id not equal to 1\n",
    "merged_df = merged_df[merged_df['layout_id'] == 1]\n",
    "\n",
    "# remove rows with more than 1 ascensionist\n",
    "merged_df = merged_df[merged_df['ascensionist_count'] >= 2]\n",
    "merged_df['vgrade'] = merged_df['display_difficulty'].apply(map_vgrade)\n",
    "\n",
    "filtered_columns = ['name','vgrade','angle_y','display_difficulty','created_at', 'ascensionist_count','frames','fa_username', 'benchmark_difficulty',  'is_draft',  'climb_uuid']\n",
    "filtered_df = merged_df.loc[:, filtered_columns]\n",
    "\n",
    "# print(merged_df_filtered.head().to_string(index=False))\n",
    "# show(filtered_df)\n",
    "\n",
    "# r12 - starthold  5\n",
    "# r13 - hand hold  2\n",
    "# r14 - finish hold 3\n",
    "# r15 - foot hold   4\n",
    "# p - hold position?\n",
    "\n",
    "# p1454r15p1455r15p1457r15p1467r15p1469r15p1477r15p1485r15p1493r15p1511r15p1521r15p1532r15p1547r15p1549r15\n",
    "# p1144r15 p1195r13 p1196r12 p1233r12 p1268r13 p1280r13 p1304r13 p1355r13 p1375r13 p1393r14 p1504r15 p1506r15 p1524r15 p1534r15 p1572r15 - EK | Crimp is not a crux\n",
    "\n",
    "# p1085r15 p1124r12 p1176r12 p1196r13 p1244r13 p1283r13 p1332r13 p1383r14 p1385r14 p1504r15 p1514r15 - Pinch n' Gaston\n",
    "\n",
    "# p1205r15 p1234r12 p1272r13 p1303r13 p1340r13 p1387r14 p1487r15 p1514r15 -sheep4wood\n",
    "\n",
    "# p1165r12 p1271r13 p1286r13 p1333r14 p1469r15 p1476r15 - Fission\n",
    "\n",
    "# p1146r12 p1163r12 p1227r13 p1249r13 p1265r13 p1269r14 p1457r15 p1467r15 p1484r15 p1496r15 p1503r15 p1506r15 p1516r15 - Plastic Age Mindset\n",
    "\n",
    "# p1127r12 p1164r12 p1233r13 p1235r13 p1283r13 p1287r13 p1299r13 p1348r13 p1379r14 p1458r15 p1507r15 - anti-compressant\n",
    "\n",
    "#layout_ids\n",
    "# 1 - original board ( only meaningfulone)\n",
    "# 2-8 ( other boards)\n"
   ]
  },
  {
   "cell_type": "markdown",
   "metadata": {},
   "source": [
    "### Some Graphs"
   ]
  },
  {
   "cell_type": "code",
   "execution_count": null,
   "metadata": {},
   "outputs": [
    {
     "data": {
      "image/png": "[encoded data removed]",
      "text/plain": [
       "<Figure size 1000x600 with 1 Axes>"
      ]
     },
     "metadata": {},
     "output_type": "display_data"
    },
    {
     "data": {
      "image/png": "[encoded data removed]",
      "text/plain": [
       "<Figure size 1400x600 with 1 Axes>"
      ]
     },
     "metadata": {},
     "output_type": "display_data"
    },
    {
     "name": "stdout",
     "output_type": "stream",
     "text": [
      "Average Number of Holds: 12.627250507046648\n"
     ]
    }
   ],
   "source": [
    "# Calculate vgrade counts\n",
    "vgrade_counts = filtered_df['vgrade'].value_counts().sort_index()\n",
    "plt.figure(figsize=(10, 6))\n",
    "bars = vgrade_counts.plot(kind='bar', color='skyblue')\n",
    "for bar in bars.patches:\n",
    "    height = bar.get_height()\n",
    "    plt.text(bar.get_x() + bar.get_width() / 2, height + 0.5, f'{int(height)}', ha='center', va='bottom')\n",
    "plt.title('Count of Climbs for Each vgrade')\n",
    "plt.xlabel('vgrade')\n",
    "plt.ylabel('Count')\n",
    "plt.xticks(rotation=45)\n",
    "plt.grid(axis='y', linestyle='--', alpha=0.7)\n",
    "plt.tight_layout()\n",
    "plt.show()\n",
    "\n",
    "# Assuming 'filtered_df' contains your DataFrame with the 'frames' column\n",
    "filtered_df['hold_count'] = filtered_df['frames'].str.count('p')\n",
    "\n",
    "# Filter out counts beyond 35 holds\n",
    "filtered_counts = filtered_df['hold_count'].value_counts().sort_index().loc[:35]\n",
    "\n",
    "# Plotting the count of climbs with a certain number of holds\n",
    "plt.figure(figsize=(14, 6))  # Adjust the width by changing the first value (e.g., 14)\n",
    "filtered_counts.plot(kind='bar')\n",
    "plt.title('Count of Climbs with Different Numbers of Holds (Up to 35 Holds)')\n",
    "plt.xlabel('Number of Holds')\n",
    "plt.ylabel('Count of Climbs')\n",
    "plt.xticks(rotation=45)\n",
    "plt.grid(axis='y')\n",
    "plt.show()\n",
    "\n",
    "total_hold_count = (filtered_counts.index * filtered_counts).sum()\n",
    "\n",
    "# Calculate total count of climbs\n",
    "total_climbs = filtered_counts.sum()\n",
    "\n",
    "# Calculate average number of holds\n",
    "average_holds = total_hold_count / total_climbs\n",
    "\n",
    "print(\"Average Number of Holds:\", average_holds)"
   ]
  },
  {
   "cell_type": "markdown",
   "metadata": {},
   "source": [
    "### Preprocessing Data Functions"
   ]
  },
  {
   "cell_type": "code",
   "execution_count": null,
   "metadata": {},
   "outputs": [],
   "source": [
    "# the value is:\n",
    "# 2-feet \n",
    "# 3-start \n",
    "# 4-hand \n",
    "# 5-finish\n",
    "def frame_to_ids(frame):\n",
    "    ids_list_1 = []\n",
    "    ids_list_2 = []\n",
    "    \n",
    "    # Split the frame string based on the 'p' delimiter\n",
    "    filtered_frame = frame.replace(',', '').replace('\"', '')\n",
    "    frame_parts = filtered_frame.split('p')[1:]\n",
    "    \n",
    "    for entry in frame_parts:\n",
    "        parts = entry.split('r')\n",
    "        id_1 = int(parts[0])\n",
    "        id_2 = int(parts[1])\n",
    "        \n",
    "        ids_list_1.append(id_1)\n",
    "        if id_2 in [12, 13, 14, 15]:\n",
    "            id_2 = [2, 3, 4, 5][id_2 - 12]\n",
    "        ids_list_2.append(id_2)\n",
    "    return ids_list_1, ids_list_2\n",
    "\n",
    "def is_frame_valid(frame):\n",
    "    # Extract the first list of IDs from the frame\n",
    "    if \"x\" in frame:\n",
    "        return False\n",
    "    ids_list_1, _ = frame_to_ids(frame)\n",
    "    \n",
    "    # Check if any value in the first list is greater than 2000\n",
    "    for value in ids_list_1:\n",
    "        if value > 2000:\n",
    "            return False\n",
    "    return True\n",
    "\n"
   ]
  },
  {
   "cell_type": "markdown",
   "metadata": {},
   "source": [
    "### Create Text File"
   ]
  },
  {
   "cell_type": "code",
   "execution_count": null,
   "metadata": {},
   "outputs": [
    {
     "name": "stdout",
     "output_type": "stream",
     "text": [
      "                       name  vgrade  angle_y  display_difficulty  \\\n",
      "1     what kind of triangle       8       45             25.0000   \n",
      "4               marks 1 try       2       30             14.0000   \n",
      "5               marks 1 try       2       55             14.3333   \n",
      "9   dead points (tristyn) 1       3       30             17.5000   \n",
      "10                easy clap       4       45             19.3333   \n",
      "\n",
      "                    created_at  ascensionist_count  \\\n",
      "1   2020-01-05 17:57:32.213641                   2   \n",
      "4   2020-10-20 21:31:19.064510                   2   \n",
      "5   2020-10-20 21:31:19.064510                   3   \n",
      "9   2020-10-20 23:37:41.285379                   2   \n",
      "10  2019-12-04 05:21:14.908093                   3   \n",
      "\n",
      "                                               frames    fa_username  \\\n",
      "1   p1123r12p1139r13p1155r12p1171r13p1187r13p1203r...        bctyner   \n",
      "4   p1141r15p1142r12p1144r15p1179r12p1192r13p1246r...  rob.hakansson   \n",
      "5   p1141r15p1142r12p1144r15p1179r12p1192r13p1246r...     mightybyte   \n",
      "9   p1073r15p1151r12p1153r12p1173r15p1255r13p1258r...           nooc   \n",
      "10  p1328r13p1332r13p1333r13p1334r13p1336r13p1337r...   climbcentral   \n",
      "\n",
      "    benchmark_difficulty  is_draft                        climb_uuid  \\\n",
      "1                    NaN         0  002ED50792A94E5EB2127D59E167B2EE   \n",
      "4                    NaN         0  00683d10a8e246b3a106531c8573f13c   \n",
      "5                    NaN         0  00683d10a8e246b3a106531c8573f13c   \n",
      "9                    NaN         0  00A14B4AA94B4E18B32DC9B047AC4545   \n",
      "10                   NaN         0  00A7E21491AB4701963AAFD114728697   \n",
      "\n",
      "    hold_count  \n",
      "1           35  \n",
      "4           13  \n",
      "5           13  \n",
      "9            8  \n",
      "10          33  \n"
     ]
    }
   ],
   "source": [
    "vgrade = -1  # set it to -1 for all grades\n",
    "angle = -1\n",
    "\n",
    "print(filtered_df.head())\n",
    "if vgrade == -1:#all grades\n",
    "    filtered_df = filtered_df.copy()\n",
    "elif vgrade == 0:\n",
    "    filtered_df = filtered_df[filtered_df['vgrade'].isin([0, 1])]\n",
    "else:\n",
    "    vgrade_range = [max(vgrade - 1, 0), min(vgrade + 1, 15)]\n",
    "    print(vgrade_range )\n",
    "    print((vgrade_range[0], vgrade_range[1]))\n",
    "    filtered_df = filtered_df[filtered_df['vgrade'].between(vgrade_range[0], vgrade_range[1])]\n",
    "    \n",
    "# filter climbs angle  \n",
    "if angle == -1:\n",
    "    pass\n",
    "else:\n",
    "    filtered_df = filtered_df[filtered_df['angle_y'] == angle]\n",
    "\n",
    "# filter the DataFrame using is_frame_valid function\n",
    "valid_mask = filtered_df['frames'].apply(is_frame_valid)\n",
    "filtered_df = filtered_df[valid_mask]\n",
    "\n",
    "# Extract frames from the DataFrame and concatenate them with spaces\n",
    "climb_frames = filtered_df['frames'].apply(lambda x: ' '.join(x.split('p')))\n",
    "with open('climbs.txt', 'w') as file:\n",
    "    for climb in climb_frames:\n",
    "        file.write(climb + '\\n')\n"
   ]
  },
  {
   "cell_type": "markdown",
   "metadata": {},
   "source": [
    "### Preprocessing Data Functions"
   ]
  },
  {
   "cell_type": "code",
   "execution_count": null,
   "metadata": {},
   "outputs": [
    {
     "name": "stdout",
     "output_type": "stream",
     "text": [
      "Triplet List: [(7, 6, 2), (13, 10, 2), (15, 18, 3), (19, 18, 3), (13, 24, 3), (21, 24, 3), (11, 26, 3), (7, 32, 3), (1, 34, 4), (12, 0, 5), (24, 11, 5)]\n"
     ]
    }
   ],
   "source": [
    "def id_to_index(id):\n",
    "    \n",
    "    if id <=1089: #bottom large (row) 17x1\n",
    "        index_offset = 35\n",
    "        row_index = 16 - (id - 1074)\n",
    "        final_index = index_offset + 2 * row_index\n",
    "    elif id <= 1395: #big holds (matrix) 17x18\n",
    "        index_offset = 35 + 35\n",
    "        index = id-1089\n",
    "        row = index//17\n",
    "        row_index = index%17\n",
    "        final_index = index_offset + row * 70 + 2 *row_index   \n",
    "    elif id <=1464: #bottom small (row) 18x1\n",
    "        row_index = 17 - (id - 1447)\n",
    "        final_index = 2 * row_index + 1\n",
    "    elif id <= 1599: # small holds (matrix) 9x15\n",
    "        index_offset = 35 + 35 + 35 + 1\n",
    "        index = id-1464\n",
    "        row = index//9\n",
    "        row_index = index% 9\n",
    "        final_index = index_offset + row * 70 + 4 * (row_index-1)\n",
    "    else:\n",
    "        final_index = id\n",
    "        print(id) \n",
    "    return final_index\n",
    "\n",
    "def id_to_coordinate(id):\n",
    "    index = id_to_index(id)-1\n",
    "    x = index % 35\n",
    "    y = index//35\n",
    "    if y >=35:\n",
    "        y-=2 #because the top 2 rows of large hand holds dont have any feet so its offset\n",
    "    return (x,y)\n",
    "\n",
    "# ids = [1464,1447,1088,1089,1090,1107,1109, 1465]\n",
    "# for id in range(len(ids)):\n",
    "#     print(f\"position {id+1}({ids[id]}): {id_to_index(ids[id])} {id_to_coordinate(ids[id])}\")\n",
    "\n",
    "# the value is:\n",
    "# 2-feet \n",
    "# 3-start \n",
    "# 4-hand \n",
    "# 5-finish\n",
    "def frame_to_ids(frame):\n",
    "    ids_list_1 = []\n",
    "    ids_list_2 = []\n",
    "    \n",
    "    # Split the frame string based on the 'p' delimiter\n",
    "    filtered_frame = frame.replace(',', '').replace('\"', '')\n",
    "    frame_parts = filtered_frame.split('p')[1:]\n",
    "    \n",
    "    for entry in frame_parts:\n",
    "        parts = entry.split('r')\n",
    "        id_1 = int(parts[0])\n",
    "        id_2 = int(parts[1])\n",
    "        \n",
    "        ids_list_1.append(id_1)\n",
    "        if id_2 in [12, 13, 14, 15]:\n",
    "            id_2 = [2, 3, 4, 5][id_2 - 12]\n",
    "        ids_list_2.append(id_2)\n",
    "    return ids_list_1, ids_list_2\n",
    "\n",
    "# takes in frame and converts to list of triplets with xy being coordiante in board matrix and z being the value\n",
    "def frame_to_triplets(frame):\n",
    "    ids_list_1, ids_list_2 = frame_to_ids(frame)\n",
    "    \n",
    "    triplet_list = []\n",
    "    for id_1, id_2 in zip(ids_list_1, ids_list_2):\n",
    "        coordinate = id_to_coordinate(id_1)\n",
    "        triplet = (coordinate[0], coordinate[1], id_2)\n",
    "        triplet_list.append(triplet)\n",
    "    \n",
    "    return triplet_list\n",
    "\n",
    "frame = \"p1127r12p1164r12p1233r13p1235r13p1283r13p1287r13p1299r13p1348r13p1379r14p1458r15p1507r15\"\n",
    "triplet_list = frame_to_triplets(frame)\n",
    "print(\"Triplet List:\", triplet_list)\n",
    "\n",
    "def triplets_to_matrix(triplet_list):\n",
    "    # Initialize a 35x35 matrix with zeros\n",
    "    matrix = [[0] * 35 for _ in range(35)]\n",
    "    \n",
    "    # Populate the matrix with z-values from the triplets\n",
    "    for triplet in triplet_list:\n",
    "        x, y, z = triplet\n",
    "        matrix[34-y][x] = z\n",
    "    \n",
    "    return matrix\n",
    "\n",
    "# matrix = triplets_to_matrix(triplet_list)\n",
    "# for row in matrix:\n",
    "#     print(row)\n",
    "\n",
    "def frame_to_sparse_matrix(frame):\n",
    "    triplet_list = frame_to_triplets(frame)\n",
    "    matrix = triplets_to_matrix(triplet_list)\n",
    "    sparse_matrix = sp.coo_matrix(matrix)\n",
    "    return sparse_matrix\n",
    "\n",
    "def is_frame_valid(frame):\n",
    "    # Extract the first list of IDs from the frame\n",
    "    if \"x\" in frame:\n",
    "        return False\n",
    "    ids_list_1, _ = frame_to_ids(frame)\n",
    "    \n",
    "    # Check if any value in the first list is greater than 2000\n",
    "    for value in ids_list_1:\n",
    "        if value > 2000:\n",
    "            return False\n",
    "    return True"
   ]
  },
  {
   "cell_type": "code",
   "execution_count": null,
   "metadata": {},
   "outputs": [],
   "source": [
    "# Define a function to plot a sparse matrix with different hold types as different colors\n",
    "def plot_climb(sparse_matrix, title):\n",
    "    # Define a dictionary to map hold values to colors\n",
    "    hold_colors = {2: '#00FF00', 3: '#00FFFF', 4: '#FF00FF', 5: 'orange'}\n",
    "\n",
    "    # Get the x, y, and z values from the sparse matrix\n",
    "    x = sparse_matrix.col\n",
    "    y = sparse_matrix.row\n",
    "    z = sparse_matrix.data\n",
    "    \n",
    "    # Plot the sparse matrix with different hold types as different colors\n",
    "    plt.xlim(-1, 35)\n",
    "    plt.ylim(-1, 35)\n",
    "    plt.gca().set_aspect('equal', adjustable='box')\n",
    "    for i in range(len(x)):\n",
    "        plt.scatter(x[i], 34 - y[i], color=hold_colors[z[i]], s=50)\n",
    "    \n",
    "    # plot every single point as a tiny grey dot to show graph\n",
    "    for i in range(35):\n",
    "        for j in range(35):\n",
    "            plt.scatter(i, j, color='grey', s=1)\n",
    "    \n",
    "    # Set the title and labels\n",
    "    plt.title(title)\n",
    "    \n",
    "    # Show the plot\n",
    "    plt.show()\n",
    "\n"
   ]
  },
  {
   "cell_type": "markdown",
   "metadata": {},
   "source": [
    "### Markov Chain Model"
   ]
  },
  {
   "cell_type": "code",
   "execution_count": null,
   "metadata": {},
   "outputs": [
    {
     "name": "stdout",
     "output_type": "stream",
     "text": [
      "Successfully Trained\n",
      "Valid Sequence: 1081r15 1086r15 1145r12 1232r13 1287r13 1300r13 1302r13 1354r13 1385r14 1447r15 1451r15 1481r15 1496r15 1547r15 .\n"
     ]
    },
    {
     "ename": "NameError",
     "evalue": "name 'frame_to_sparse_matrix' is not defined",
     "output_type": "error",
     "traceback": [
      "\u001b[1;31m---------------------------------------------------------------------------\u001b[0m",
      "\u001b[1;31mNameError\u001b[0m                                 Traceback (most recent call last)",
      "Cell \u001b[1;32mIn[1], line 75\u001b[0m\n\u001b[0;32m     72\u001b[0m     \u001b[38;5;28mprint\u001b[39m(\u001b[38;5;124m\"\u001b[39m\u001b[38;5;124mValid Sequence:\u001b[39m\u001b[38;5;124m\"\u001b[39m, valid_sequence)\n\u001b[0;32m     74\u001b[0m     frame \u001b[38;5;241m=\u001b[39m \u001b[38;5;124m\"\u001b[39m\u001b[38;5;124mp\u001b[39m\u001b[38;5;124m\"\u001b[39m \u001b[38;5;241m+\u001b[39m \u001b[38;5;124m\"\u001b[39m\u001b[38;5;124mp\u001b[39m\u001b[38;5;124m\"\u001b[39m\u001b[38;5;241m.\u001b[39mjoin(valid_sequence\u001b[38;5;241m.\u001b[39msplit(\u001b[38;5;124m'\u001b[39m\u001b[38;5;124m \u001b[39m\u001b[38;5;124m'\u001b[39m))\n\u001b[1;32m---> 75\u001b[0m     sparse_matrix \u001b[38;5;241m=\u001b[39m \u001b[43mframe_to_sparse_matrix\u001b[49m(valid_sequence)\n\u001b[0;32m     76\u001b[0m     plot_climb(sparse_matrix, \u001b[38;5;124m'\u001b[39m\u001b[38;5;124mValid Sequence\u001b[39m\u001b[38;5;124m'\u001b[39m)\n\u001b[0;32m     78\u001b[0m \u001b[38;5;66;03m# r12 - starthold  \u001b[39;00m\n\u001b[0;32m     79\u001b[0m \u001b[38;5;66;03m# r13 - hand hold  \u001b[39;00m\n\u001b[0;32m     80\u001b[0m \u001b[38;5;66;03m# r14 - finish hold \u001b[39;00m\n\u001b[0;32m     81\u001b[0m \u001b[38;5;66;03m# r15 - foot hold   \u001b[39;00m\n",
      "\u001b[1;31mNameError\u001b[0m: name 'frame_to_sparse_matrix' is not defined"
     ]
    }
   ],
   "source": [
    "from collections import defaultdict\n",
    "import string\n",
    "import random\n",
    "\n",
    "class Markov():\n",
    "    def __init__(self, file_path):\n",
    "        self.file_path = file_path\n",
    "        self.text = self.remove_punctuations(self.get_text())\n",
    "        self.model = self.model()\n",
    "\n",
    "    def get_text(self):\n",
    "        text = []\n",
    "        for line in open(self.file_path):\n",
    "            text.append(line)\n",
    "        return ' '.join(text)\n",
    "    \n",
    "    def remove_punctuations(self, text):\n",
    "        return text.translate(str.maketrans('','', string.punctuation))\n",
    "    \n",
    "    def model(self):\n",
    "        # split the input text into individual words seperated by spaces\n",
    "        words = self.text.split(' ')\n",
    "        markov_dict = defaultdict(list)\n",
    "        # create list of all word pairs\n",
    "        for current_word, next_word in zip(words[0:-1], words[1:]):\n",
    "            markov_dict[current_word].append(next_word)\n",
    "        markov_dict = dict(markov_dict)\n",
    "        print('Successfully Trained')\n",
    "        return markov_dict\n",
    "    \n",
    "def predict_words(chain, first_word, number_of_words):\n",
    "    if first_word in list(chain.keys()):\n",
    "        word1 = str(first_word)\n",
    "        predictions = word1.capitalize()\n",
    "        # Generate the second word from the value list. Set the new word as the first word. Repeat.\n",
    "        for i in range(number_of_words):\n",
    "            word2 = random.choice(chain[word1])\n",
    "            word1 = word2\n",
    "            predictions += ' ' + word2\n",
    "        # End it with a period\n",
    "        predictions += '.'\n",
    "        return predictions\n",
    "    else:\n",
    "        return \"Word not in corpus\"\n",
    "    \n",
    "def is_valid_sequence(sequence):\n",
    "    # Count the number of start holds (r12) and finish holds (r14)\n",
    "    start_hold_count = sequence.count('r12')\n",
    "    finish_hold_count = sequence.count('r14')\n",
    "\n",
    "    # Check if the counts are within the specified range\n",
    "    return 1 <= start_hold_count <= 2 and 1 <= finish_hold_count <= 2\n",
    "\n",
    "def predict_valid_sequence(chain, start_hold, number_of_words):\n",
    "    while True:\n",
    "        # Generate a sequence of words using the Markov chain model\n",
    "        sequence = predict_words(chain, start_hold, number_of_words)\n",
    "        \n",
    "        # Convert the sequence to a string\n",
    "        sequence_str = ' '.join(sequence.split())\n",
    "        # Check if the sequence is valid\n",
    "        if is_valid_sequence(sequence_str):\n",
    "            return sequence_str\n",
    "\n",
    "if __name__ == '__main__':\n",
    "    m = Markov(file_path='climbs.txt')\n",
    "    chain = m.model\n",
    "    start_hold = '1081r15'  # Example start hold\n",
    "    \n",
    "    # Predict a valid sequence\n",
    "    valid_sequence = predict_valid_sequence(chain, start_hold, number_of_words=13)\n",
    "    print(\"Valid Sequence:\", valid_sequence)\n",
    "\n",
    "    frame = \"p\" + \"p\".join(valid_sequence.split(' '))\n",
    "    sparse_matrix = frame_to_sparse_matrix(valid_sequence)\n",
    "    plot_climb(sparse_matrix, 'Valid Sequence')\n",
    "\n",
    "# r12 - starthold  \n",
    "# r13 - hand hold  \n",
    "# r14 - finish hold \n",
    "# r15 - foot hold   "
   ]
  },
  {
   "cell_type": "code",
   "execution_count": null,
   "metadata": {},
   "outputs": [],
   "source": []
  }
 ],
 "metadata": {
  "kernelspec": {
   "display_name": ".venv",
   "language": "python",
   "name": "python3"
  },
  "language_info": {
   "codemirror_mode": {
    "name": "ipython",
    "version": 3
   },
   "file_extension": ".py",
   "mimetype": "text/x-python",
   "name": "python",
   "nbconvert_exporter": "python",
   "pygments_lexer": "ipython3",
   "version": "3.12.3"
  }
 },
 "nbformat": 4,
 "nbformat_minor": 2
}
